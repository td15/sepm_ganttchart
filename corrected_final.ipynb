import pandas as pd
import plotly.express as px
import datetime

# Define tasks and their start and end dates
tasks = {
    "Team Formation & Scope Definition": ("2024-02-01", "2024-02-07"),
    "Requirement Gathering": ("2024-02-08", "2024-02-14"),
    "UI/UX Design": ("2024-02-15", "2024-02-21"),
    "Database Design": ("2024-02-22", "2024-02-28"),
    "Frontend Development": ("2024-02-29", "2024-03-14"),
    "Backend Development": ("2024-02-29", "2024-03-14"),
    "Search Engine Integration": ("2024-03-15", "2024-03-21"),
    "Functional Testing": ("2024-03-22", "2024-03-28"),
    "Usability Testing": ("2024-03-29", "2024-04-04"),
    "Performance Testing": ("2024-04-05", "2024-04-11"),
    "App Deployment Server Setup": ("2024-04-12", "2024-04-18"),
    "Initial Launch": ("2024-04-19", "2024-04-25"),
    "Feedback Collection": ("2024-04-26", "2024-04-30"),
    "Documentation": ("2024-02-01", "2024-04-30"),  # Documentation spans the entire period
    "Future Planning": ("2024-04-26", "2024-04-30"),
}

# Create a list of dictionaries for the Gantt chart
data = []
for task, (start, end) in tasks.items():
    data.append(dict(Task=task, Start=start, Finish=end))

# Convert to Pandas DataFrame
df = pd.DataFrame(data)

# Ensure dates are in datetime format
df["Start"] = pd.to_datetime(df["Start"])
df["Finish"] = pd.to_datetime(df["Finish"])

# Sort tasks to achieve the "positive line" effect (bottom to top)
task_order = [
    "Team Formation & Scope Definition",
    "Requirement Gathering",
    "UI/UX Design",
    "Database Design",
    "Frontend Development",
    "Backend Development",
    "Search Engine Integration",
    "Functional Testing",
    "Usability Testing",
    "Performance Testing",
    "App Deployment Server Setup",
    "Initial Launch",
    "Feedback Collection",
    "Documentation",
    "Future Planning",
]

df['Task'] = pd.Categorical(df['Task'], categories=task_order, ordered=True)
df = df.sort_values('Task', ascending=False)


# Create the Gantt chart using Plotly
fig = px.timeline(
    df,
    x_start="Start",
    x_end="Finish",
    y="Task",
    color="Task",  # Optional: Color each task differently
    title="Project Gantt Chart (Feb-Apr)",
    height=600  # Adjust height as needed
)

fig.update_layout(
    xaxis_title="Date",
    yaxis_title="Tasks",
    xaxis=dict(
        tickformat="%m-%d",  # Format dates on x-axis
        tickmode='linear',
        dtick="M1" # Show ticks every month
    ),
    yaxis=dict(autorange="reversed") # Reverse the order of tasks on y-axis
)

fig.show()
